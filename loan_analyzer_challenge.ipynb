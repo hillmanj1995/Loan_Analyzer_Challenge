{
 "cells": [
  {
   "cell_type": "markdown",
   "metadata": {},
   "source": [
    "coding: utf-8"
   ]
  },
  {
   "cell_type": "code",
   "execution_count": 3,
   "metadata": {},
   "outputs": [],
   "source": [
    "import csv\n",
    "from pathlib import Path"
   ]
  },
  {
   "cell_type": "markdown",
   "metadata": {},
   "source": [
    "\n",
    "Part 1: Automate the Calculations.<br>\n",
    "Automate the calculations for the loan portfolio summaries.<br>\n",
    "First, let's start with some calculations on a list of prices for 5 loans.<br>\n",
    "    1. Use the `len` function to calculate the total number of loans in the list.<br>\n",
    "    2. Use the `sum` function to calculate the total of all loans in the list.<br>\n",
    "    3. Using the sum of all loans and the total number of loans, calculate the average loan price.<br>\n",
    "    4. Print all calculations with descriptive messages.<br>\n"
   ]
  },
  {
   "cell_type": "code",
   "execution_count": 4,
   "metadata": {},
   "outputs": [],
   "source": [
    "loan_costs = [500, 600, 200, 1000, 450]"
   ]
  },
  {
   "cell_type": "code",
   "execution_count": 55,
   "metadata": {},
   "outputs": [
    {
     "name": "stdout",
     "output_type": "stream",
     "text": [
      "the number of loans is: 5\n"
     ]
    }
   ],
   "source": [
    "#How many loans are in the list?<br>\n",
    "#@TODO: Use the `len` function to calculate the total number of loans in the list.<br>\n",
    "#Print the number of loans from the list<br>\n",
    "count_loans = len(loan_costs)\n",
    "print(f'the number of loans is: {count_loans}')"
   ]
  },
  {
   "cell_type": "code",
   "execution_count": 56,
   "metadata": {},
   "outputs": [
    {
     "name": "stdout",
     "output_type": "stream",
     "text": [
      "the total of all loans is: 2750\n"
     ]
    }
   ],
   "source": [
    "#What is the total of all loans?<br>\n",
    "#@TODO: Use the `sum` function to calculate the total of all loans in the list.<br>\n",
    "#Print the total value of the loans<br>\n",
    "sum_loans = sum(loan_costs)\n",
    "print(f'the total of all loans is: {sum_loans}')"
   ]
  },
  {
   "cell_type": "code",
   "execution_count": 57,
   "metadata": {},
   "outputs": [
    {
     "name": "stdout",
     "output_type": "stream",
     "text": [
      "the average of all loans is: 550.0\n"
     ]
    }
   ],
   "source": [
    "#What is the average loan amount from the list?<br>\n",
    "#@TODO: Using the sum of all loans and the total number of loans, calculate the average loan price.<br>\n",
    "#Print the average loan amount<br>\n",
    "avg_loan_costs = sum_loans/count_loans\n",
    "print(f'the average of all loans is: {avg_loan_costs}')"
   ]
  },
  {
   "cell_type": "markdown",
   "metadata": {},
   "source": [
    "\n",
    "Part 2: Analyze Loan Data.<br>\n",
    "Analyze the loan to determine the investment evaluation.<br>\n",
    "Using more detailed data on one of these loans, follow these steps to calculate a Present Value, or a \"fair price\" for what this loan would be worth.<br>\n",
    "1. Use get() on the dictionary of additional information to extract the **Future Value** and **Remaining Months** on the loan.<br>\n",
    "    a. Save these values as variables called `future_value` and `remaining_months`.<br>\n",
    "    b. Print each variable.<br>\n",
    "    @NOTE:<br>\n",
    "    **Future Value**: The amount of money the borrower has to pay back upon maturity of the loan (a.k.a. \"Face Value\")<br>\n",
    "    **Remaining Months**: The remaining maturity (in months) before the loan needs to be fully repaid.<br>\n",
    "2. Use the formula for Present Value to calculate a \"fair value\" of the loan. Use a minimum required return of 20% as the discount rate.<br>\n",
    "3. Write a conditional statement (an if-else statement) to decide if the present value represents the loan's fair value.<br>\n",
    "    a. If the present value of the loan is greater than or equal to the cost, then print a message that says the loan is worth at least the cost to buy it.<br>\n",
    "    b. Else, the present value of the loan is less than the loan cost, then print a message that says that the loan is too expensive and not worth the price.<br>\n",
    "    @NOTE:<br>\n",
    "    If Present Value represents the loan's fair value (given the required minimum return of 20%), does it make sense to buy the loan at its current cost?<br>\n"
   ]
  },
  {
   "cell_type": "markdown",
   "metadata": {},
   "source": [
    "Given the following loan data, you will need to calculate the present value for the loan"
   ]
  },
  {
   "cell_type": "code",
   "execution_count": 16,
   "metadata": {},
   "outputs": [],
   "source": [
    "loan = {\n",
    "    \"loan_price\": 500,\n",
    "    \"remaining_months\": 9,\n",
    "    \"repayment_interval\": \"bullet\",\n",
    "    \"future_value\": 1000,\n",
    "}"
   ]
  },
  {
   "cell_type": "code",
   "execution_count": 19,
   "metadata": {},
   "outputs": [
    {
     "name": "stdout",
     "output_type": "stream",
     "text": [
      "future value = 1000, remaining months = 9\n"
     ]
    }
   ],
   "source": [
    "#TODO: Use get() on the dictionary of additional information to extract the Future Value and Remaining Months on the loan.<br>\n",
    "#Print each variable.<br>\n",
    "future_value = loan.get(\"future_value\")\n",
    "remaining_months = loan.get(\"remaining_months\")\n",
    "print(f'future value = {future_value}, remaining months = {remaining_months}')"
   ]
  },
  {
   "cell_type": "code",
   "execution_count": null,
   "metadata": {},
   "outputs": [],
   "source": [
    "#@TODO: Use the formula for Present Value to calculate a \"fair value\" of the loan.<br>\n",
    "#Use a minimum required return of 20% as the discount rate.<br>\n",
    "  #You'll want to use the **monthly** version of the present value formula.<br>\n",
    "  #HINT: Present Value = Future Value / (1 + Discount_Rate/12) ** remaining_months"
   ]
  },
  {
   "cell_type": "code",
   "execution_count": 20,
   "metadata": {},
   "outputs": [
    {
     "data": {
      "text/plain": [
       "861.7727126032183"
      ]
     },
     "execution_count": 20,
     "metadata": {},
     "output_type": "execute_result"
    }
   ],
   "source": [
    "discount_rate = 0.2\n",
    "present_value = future_value / (1 + discount_rate/12) ** remaining_months\n",
    "present_value"
   ]
  },
  {
   "cell_type": "code",
   "execution_count": 23,
   "metadata": {},
   "outputs": [
    {
     "name": "stdout",
     "output_type": "stream",
     "text": [
      "The loan is worth at least the cost to buy it\n"
     ]
    }
   ],
   "source": [
    "#If Present Value represents what the loan is really worth, does it make sense to buy the loan at its cost?<br>\n",
    "#@TODO: Write a conditional statement (an if-else statement) to decide if the present value represents the loan's fair value.<br>\n",
    "   #If the present value of the loan is greater than or equal to the cost, then print a message that says the loan is worth at least the cost to buy it.<br>\n",
    "   #Else, the present value of the loan is less than the loan cost, then print a message that says that the loan is too expensive and not worth the price.<br>\n",
    "if present_value >= loan.get('loan_price'):\n",
    "    print('The loan is worth at least the cost to buy it')\n",
    "else:\n",
    "    print ('The loan is too expensive and not worth the price')\n",
    "    "
   ]
  },
  {
   "cell_type": "markdown",
   "metadata": {},
   "source": [
    "\n",
    "Part 3: Perform Financial Calculations.<br>\n",
    "Perform financial calculations using functions.<br>\n",
    "1. Define a new function that will be used to calculate present value.<br>\n",
    "    a. This function should include parameters for `future_value`, `remaining_months`, and the `annual_discount_rate`<br>\n",
    "    b. The function should return the `present_value` for the loan.<br>\n",
    "2. Use the function to calculate the present value of the new loan given below.<br>\n",
    "    a. Use an `annual_discount_rate` of 0.2 for this new loan calculation.<br>\n"
   ]
  },
  {
   "cell_type": "markdown",
   "metadata": {},
   "source": [
    "Given the following loan data, you will need to calculate the present value for the loan"
   ]
  },
  {
   "cell_type": "code",
   "execution_count": 24,
   "metadata": {},
   "outputs": [],
   "source": [
    "new_loan = {\n",
    "    \"loan_price\": 800,\n",
    "    \"remaining_months\": 12,\n",
    "    \"repayment_interval\": \"bullet\",\n",
    "    \"future_value\": 1000,\n",
    "}"
   ]
  },
  {
   "cell_type": "code",
   "execution_count": 30,
   "metadata": {},
   "outputs": [],
   "source": [
    "#@TODO: Define a new function that will be used to calculate present value.<br>\n",
    "   #This function should include parameters for `future_value`, `remaining_months`, and the `annual_discount_rate`<br>\n",
    "   #The function should return the `present_value` for the loan.<br>\n",
    "annual_discount_rate = 0.2\n",
    "\n",
    "def present_value_1 (future_value, remaining_months, annual_discount_rate):\n",
    "    present_value_1 = future_value / (1 + annual_discount_rate/12) ** remaining_months\n",
    "    return present_value_1"
   ]
  },
  {
   "cell_type": "code",
   "execution_count": 34,
   "metadata": {},
   "outputs": [],
   "source": [
    "#@TODO: Use the function to calculate the present value of the new loan given below.<br>\n",
    "   #Use an `annual_discount_rate` of 0.2 for this new loan calculation.<br>\n",
    "future_rate = new_loan.get(\"future_value\")\n",
    "remaining_months = new_loan.get(\"remaining_months\")\n",
    "    \n",
    "present_value = present_value_1(future_value, remaining_months, annual_discount_rate)"
   ]
  },
  {
   "cell_type": "code",
   "execution_count": 35,
   "metadata": {},
   "outputs": [
    {
     "name": "stdout",
     "output_type": "stream",
     "text": [
      "The present value of the loan is: 820.0814425978174\n"
     ]
    }
   ],
   "source": [
    "print(f\"The present value of the loan is: {present_value}\")"
   ]
  },
  {
   "cell_type": "markdown",
   "metadata": {},
   "source": [
    "\n",
    "Part 4: Conditionally filter lists of loans.<br>\n",
    "In this section, you will use a loop to iterate through a series of loans and select only the inexpensive loans.<br>\n",
    "1. Create a new, empty list called `inexpensive_loans`.<br>\n",
    "2. Use a for loop to select each loan from a list of loans.<br>\n",
    "    a. Inside the for loop, write an if-statement to determine if the loan_price is less than or equal to 500<br>\n",
    "    b. If the loan_price is less than or equal to 500 then append that loan to the `inexpensive_loans` list.<br>\n",
    "3. Print the list of inexpensive_loans.<br>\n"
   ]
  },
  {
   "cell_type": "code",
   "execution_count": 36,
   "metadata": {},
   "outputs": [],
   "source": [
    "loans = [\n",
    "    {\n",
    "        \"loan_price\": 700,\n",
    "        \"remaining_months\": 9,\n",
    "        \"repayment_interval\": \"monthly\",\n",
    "        \"future_value\": 1000,\n",
    "    },\n",
    "    {\n",
    "        \"loan_price\": 500,\n",
    "        \"remaining_months\": 13,\n",
    "        \"repayment_interval\": \"bullet\",\n",
    "        \"future_value\": 1000,\n",
    "    },\n",
    "    {\n",
    "        \"loan_price\": 200,\n",
    "        \"remaining_months\": 16,\n",
    "        \"repayment_interval\": \"bullet\",\n",
    "        \"future_value\": 1000,\n",
    "    },\n",
    "    {\n",
    "        \"loan_price\": 900,\n",
    "        \"remaining_months\": 16,\n",
    "        \"repayment_interval\": \"bullet\",\n",
    "        \"future_value\": 1000,\n",
    "    },\n",
    "]"
   ]
  },
  {
   "cell_type": "code",
   "execution_count": 37,
   "metadata": {},
   "outputs": [],
   "source": [
    "#@TODO: Create an empty list called `inexpensive_loans`<br>\n",
    "inexpensive_loans = []"
   ]
  },
  {
   "cell_type": "code",
   "execution_count": 44,
   "metadata": {},
   "outputs": [],
   "source": [
    "#TODO: Loop through all the loans and append any that cost $500 or less to the `inexpensive_loans` list<br>\n",
    "for loan_low_price in loans:   #create a for loop to generate a list of loans under $500\n",
    "    if loan_low_price['loan_price'] <= 500:\n",
    "        inexpensive_loans.append(loan_low_price)"
   ]
  },
  {
   "cell_type": "code",
   "execution_count": 45,
   "metadata": {},
   "outputs": [
    {
     "name": "stdout",
     "output_type": "stream",
     "text": [
      "[{'loan_price': 500, 'remaining_months': 13, 'repayment_interval': 'bullet', 'future_value': 1000}, {'loan_price': 200, 'remaining_months': 16, 'repayment_interval': 'bullet', 'future_value': 1000}, {'loan_price': 500, 'remaining_months': 13, 'repayment_interval': 'bullet', 'future_value': 1000}, {'loan_price': 200, 'remaining_months': 16, 'repayment_interval': 'bullet', 'future_value': 1000}]\n"
     ]
    }
   ],
   "source": [
    "#@TODO: Print the `inexpensive_loans` list<br>\n",
    "print(inexpensive_loans)"
   ]
  },
  {
   "cell_type": "markdown",
   "metadata": {},
   "source": [
    "\n",
    "Part 5: Save the results.<br>\n",
    "Output this list of inexpensive loans to a csv file<br>\n",
    "    1. Use `with open` to open a new CSV file.<br>\n",
    "        a. Create a `csvwriter` using the `csv` library.<br>\n",
    "        b. Use the new csvwriter to write the header variable as the first row.<br>\n",
    "        c. Use a for loop to iterate through each loan in `inexpensive_loans`.<br>\n",
    "            i. Use the csvwriter to write the `loan.values()` to a row in the CSV file.<br>\n",
    "    Hint: Refer to the official documentation for the csv library.<br>\n",
    "    https://docs.python.org/3/library/csv.html#writer-objects<br>\n"
   ]
  },
  {
   "cell_type": "markdown",
   "metadata": {},
   "source": [
    "Set the output header"
   ]
  },
  {
   "cell_type": "code",
   "execution_count": 46,
   "metadata": {},
   "outputs": [],
   "source": [
    "header = [\"loan_price\", \"remaining_months\", \"repayment_interval\", \"future_value\"]"
   ]
  },
  {
   "cell_type": "markdown",
   "metadata": {},
   "source": [
    "Set the output file path"
   ]
  },
  {
   "cell_type": "code",
   "execution_count": 47,
   "metadata": {},
   "outputs": [],
   "source": [
    "output_path = Path(\"inexpensive_loans.csv\")"
   ]
  },
  {
   "cell_type": "code",
   "execution_count": 58,
   "metadata": {},
   "outputs": [],
   "source": [
    "#@TODO: Use the csv library and `csv.writer` to write the header row<br>\n",
    "#and each row of `loan.values()` from the `inexpensive_loans` list.<br>\n",
    "import csv\n",
    "with open(output_path, 'w', newline='') as csvfile:\n",
    "    csvwriter = csv.writer(csvfile, delimiter=',')\n",
    "    csvwriter.writerow(header)\n",
    "    for row in inexpensive_loans:                      \n",
    "        csvwriter.writerow(row.values()) "
   ]
  }
 ],
 "metadata": {
  "kernelspec": {
   "display_name": "Python 3 (ipykernel)",
   "language": "python",
   "name": "python3"
  },
  "language_info": {
   "codemirror_mode": {
    "name": "ipython",
    "version": 3
   },
   "file_extension": ".py",
   "mimetype": "text/x-python",
   "name": "python",
   "nbconvert_exporter": "python",
   "pygments_lexer": "ipython3",
   "version": "3.9.13"
  }
 },
 "nbformat": 4,
 "nbformat_minor": 2
}
